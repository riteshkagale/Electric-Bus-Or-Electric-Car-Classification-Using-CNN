{
  "nbformat": 4,
  "nbformat_minor": 0,
  "metadata": {
    "colab": {
      "name": "Electric Car or Bus Classification using CNN.ipynb",
      "provenance": [],
      "collapsed_sections": []
    },
    "kernelspec": {
      "name": "python3",
      "display_name": "Python 3"
    }
  },
  "cells": [
    {
      "cell_type": "markdown",
      "metadata": {
        "id": "EMefrVPCg-60"
      },
      "source": [
        "### Importing the libraries"
      ]
    },
    {
      "cell_type": "code",
      "metadata": {
        "id": "sCV30xyVhFbE"
      },
      "source": [
        "import tensorflow as tf\n",
        "from keras.preprocessing.image import ImageDataGenerator"
      ],
      "execution_count": 1,
      "outputs": []
    },
    {
      "cell_type": "code",
      "metadata": {
        "id": "FIleuCAjoFD8",
        "outputId": "0a4b2c26-1713-4db4-929b-befa8aa43326",
        "colab": {
          "base_uri": "https://localhost:8080/",
          "height": 35
        }
      },
      "source": [
        "tf.__version__"
      ],
      "execution_count": 2,
      "outputs": [
        {
          "output_type": "execute_result",
          "data": {
            "application/vnd.google.colaboratory.intrinsic+json": {
              "type": "string"
            },
            "text/plain": [
              "'2.3.0'"
            ]
          },
          "metadata": {
            "tags": []
          },
          "execution_count": 2
        }
      ]
    },
    {
      "cell_type": "code",
      "metadata": {
        "id": "bVd4Ad9-jWh1",
        "outputId": "3cf321b1-518e-4f0c-c28d-ea7afc1dc473",
        "colab": {
          "base_uri": "https://localhost:8080/",
          "height": 34
        }
      },
      "source": [
        "from google.colab import drive\n",
        "drive.mount('/content/gdrive')"
      ],
      "execution_count": 3,
      "outputs": [
        {
          "output_type": "stream",
          "text": [
            "Mounted at /content/gdrive\n"
          ],
          "name": "stdout"
        }
      ]
    },
    {
      "cell_type": "markdown",
      "metadata": {
        "id": "oxQxCBWyoGPE"
      },
      "source": [
        "## Part 1 - Data Preprocessing"
      ]
    },
    {
      "cell_type": "markdown",
      "metadata": {
        "id": "MvE-heJNo3GG"
      },
      "source": [
        "### Preprocessing the Training set"
      ]
    },
    {
      "cell_type": "code",
      "metadata": {
        "id": "0koUcJMJpEBD",
        "outputId": "0c58bbdf-bf62-4a41-8f8a-d7c546ac57d5",
        "colab": {
          "base_uri": "https://localhost:8080/",
          "height": 34
        }
      },
      "source": [
        "train_datagen = ImageDataGenerator(rescale = 1./255,\n",
        "                                   shear_range = 0.2,\n",
        "                                   zoom_range = 0.2,\n",
        "                                   horizontal_flip = True)\n",
        "training_set = train_datagen.flow_from_directory('/content/gdrive/My Drive/Colab Notebooks/training_set',\n",
        "                                                 target_size = (64, 64),\n",
        "                                                 batch_size = 32,\n",
        "                                                 class_mode = 'binary')"
      ],
      "execution_count": 4,
      "outputs": [
        {
          "output_type": "stream",
          "text": [
            "Found 1486 images belonging to 2 classes.\n"
          ],
          "name": "stdout"
        }
      ]
    },
    {
      "cell_type": "markdown",
      "metadata": {
        "id": "mrCMmGw9pHys"
      },
      "source": [
        "### Preprocessing the Test set"
      ]
    },
    {
      "cell_type": "code",
      "metadata": {
        "id": "SH4WzfOhpKc3",
        "outputId": "bb16bc8f-9492-442d-dd24-07d0cc514808",
        "colab": {
          "base_uri": "https://localhost:8080/",
          "height": 34
        }
      },
      "source": [
        "test_datagen = ImageDataGenerator(rescale = 1./255)\n",
        "test_set = test_datagen.flow_from_directory('/content/gdrive/My Drive/Colab Notebooks/test_set',\n",
        "                                            target_size = (64, 64),\n",
        "                                            batch_size = 32,\n",
        "                                            class_mode = 'binary')"
      ],
      "execution_count": 5,
      "outputs": [
        {
          "output_type": "stream",
          "text": [
            "Found 380 images belonging to 2 classes.\n"
          ],
          "name": "stdout"
        }
      ]
    },
    {
      "cell_type": "code",
      "metadata": {
        "id": "UQByvFwXqedR",
        "outputId": "a76e36f9-d49b-4d60-f984-daef5bbb7857",
        "colab": {
          "base_uri": "https://localhost:8080/",
          "height": 34
        }
      },
      "source": [
        "training_set.class_indices"
      ],
      "execution_count": 6,
      "outputs": [
        {
          "output_type": "execute_result",
          "data": {
            "text/plain": [
              "{'electric bus': 0, 'electric car': 1}"
            ]
          },
          "metadata": {
            "tags": []
          },
          "execution_count": 6
        }
      ]
    },
    {
      "cell_type": "markdown",
      "metadata": {
        "id": "af8O4l90gk7B"
      },
      "source": [
        "## Part 2 - Building the CNN"
      ]
    },
    {
      "cell_type": "markdown",
      "metadata": {
        "id": "ces1gXY2lmoX"
      },
      "source": [
        "### Initialising the CNN"
      ]
    },
    {
      "cell_type": "code",
      "metadata": {
        "id": "SAUt4UMPlhLS"
      },
      "source": [
        "cnn = tf.keras.models.Sequential()"
      ],
      "execution_count": 7,
      "outputs": []
    },
    {
      "cell_type": "markdown",
      "metadata": {
        "id": "u5YJj_XMl5LF"
      },
      "source": [
        "### Step 1 - Convolution"
      ]
    },
    {
      "cell_type": "code",
      "metadata": {
        "id": "XPzPrMckl-hV"
      },
      "source": [
        "cnn.add(tf.keras.layers.Conv2D(filters=32, kernel_size=3, activation='relu', input_shape=[64, 64, 3]))"
      ],
      "execution_count": 8,
      "outputs": []
    },
    {
      "cell_type": "markdown",
      "metadata": {
        "id": "tf87FpvxmNOJ"
      },
      "source": [
        "### Step 2 - Pooling"
      ]
    },
    {
      "cell_type": "code",
      "metadata": {
        "id": "ncpqPl69mOac"
      },
      "source": [
        "cnn.add(tf.keras.layers.MaxPool2D(pool_size=2, strides=2))"
      ],
      "execution_count": 9,
      "outputs": []
    },
    {
      "cell_type": "markdown",
      "metadata": {
        "id": "xaTOgD8rm4mU"
      },
      "source": [
        "### Adding a second convolutional layer"
      ]
    },
    {
      "cell_type": "code",
      "metadata": {
        "id": "i_-FZjn_m8gk"
      },
      "source": [
        "cnn.add(tf.keras.layers.Conv2D(filters=32, kernel_size=3, activation='relu'))\n",
        "cnn.add(tf.keras.layers.MaxPool2D(pool_size=2, strides=2))"
      ],
      "execution_count": 10,
      "outputs": []
    },
    {
      "cell_type": "markdown",
      "metadata": {
        "id": "tmiEuvTunKfk"
      },
      "source": [
        "### Step 3 - Flattening"
      ]
    },
    {
      "cell_type": "code",
      "metadata": {
        "id": "6AZeOGCvnNZn"
      },
      "source": [
        "cnn.add(tf.keras.layers.Flatten())"
      ],
      "execution_count": 11,
      "outputs": []
    },
    {
      "cell_type": "markdown",
      "metadata": {
        "id": "dAoSECOm203v"
      },
      "source": [
        "### Step 4 - Full Connection"
      ]
    },
    {
      "cell_type": "code",
      "metadata": {
        "id": "8GtmUlLd26Nq"
      },
      "source": [
        "cnn.add(tf.keras.layers.Dense(units=128, activation='relu'))"
      ],
      "execution_count": 12,
      "outputs": []
    },
    {
      "cell_type": "markdown",
      "metadata": {
        "id": "yTldFvbX28Na"
      },
      "source": [
        "### Step 5 - Output Layer"
      ]
    },
    {
      "cell_type": "code",
      "metadata": {
        "id": "1p_Zj1Mc3Ko_"
      },
      "source": [
        "cnn.add(tf.keras.layers.Dense(units=1, activation='sigmoid'))"
      ],
      "execution_count": 13,
      "outputs": []
    },
    {
      "cell_type": "markdown",
      "metadata": {
        "id": "D6XkI90snSDl"
      },
      "source": [
        "## Part 3 - Training the CNN"
      ]
    },
    {
      "cell_type": "markdown",
      "metadata": {
        "id": "vfrFQACEnc6i"
      },
      "source": [
        "### Compiling the CNN"
      ]
    },
    {
      "cell_type": "code",
      "metadata": {
        "id": "NALksrNQpUlJ"
      },
      "source": [
        "cnn.compile(optimizer = 'adam', loss = 'binary_crossentropy', metrics = ['accuracy'])"
      ],
      "execution_count": 14,
      "outputs": []
    },
    {
      "cell_type": "code",
      "metadata": {
        "id": "1VguFIo-zqf5",
        "outputId": "12e43196-663a-4793-a26c-89fb116e6a3e",
        "colab": {
          "base_uri": "https://localhost:8080/",
          "height": 386
        }
      },
      "source": [
        "cnn.summary()"
      ],
      "execution_count": 15,
      "outputs": [
        {
          "output_type": "stream",
          "text": [
            "Model: \"sequential\"\n",
            "_________________________________________________________________\n",
            "Layer (type)                 Output Shape              Param #   \n",
            "=================================================================\n",
            "conv2d (Conv2D)              (None, 62, 62, 32)        896       \n",
            "_________________________________________________________________\n",
            "max_pooling2d (MaxPooling2D) (None, 31, 31, 32)        0         \n",
            "_________________________________________________________________\n",
            "conv2d_1 (Conv2D)            (None, 29, 29, 32)        9248      \n",
            "_________________________________________________________________\n",
            "max_pooling2d_1 (MaxPooling2 (None, 14, 14, 32)        0         \n",
            "_________________________________________________________________\n",
            "flatten (Flatten)            (None, 6272)              0         \n",
            "_________________________________________________________________\n",
            "dense (Dense)                (None, 128)               802944    \n",
            "_________________________________________________________________\n",
            "dense_1 (Dense)              (None, 1)                 129       \n",
            "=================================================================\n",
            "Total params: 813,217\n",
            "Trainable params: 813,217\n",
            "Non-trainable params: 0\n",
            "_________________________________________________________________\n"
          ],
          "name": "stdout"
        }
      ]
    },
    {
      "cell_type": "markdown",
      "metadata": {
        "id": "ehS-v3MIpX2h"
      },
      "source": [
        "### Training the CNN on the Training set and evaluating it on the Test set"
      ]
    },
    {
      "cell_type": "code",
      "metadata": {
        "id": "XUj1W4PJptta",
        "outputId": "e5c498bc-61e0-47bd-b651-fb79f566f8bd",
        "colab": {
          "base_uri": "https://localhost:8080/",
          "height": 857
        }
      },
      "source": [
        "fitted_model = cnn.fit(x = training_set, validation_data = test_set, epochs = 25)"
      ],
      "execution_count": 16,
      "outputs": [
        {
          "output_type": "stream",
          "text": [
            "Epoch 1/25\n",
            "47/47 [==============================] - 1212s 26s/step - loss: 0.5498 - accuracy: 0.7180 - val_loss: 0.4528 - val_accuracy: 0.7947\n",
            "Epoch 2/25\n",
            "47/47 [==============================] - 14s 293ms/step - loss: 0.3995 - accuracy: 0.8385 - val_loss: 0.3724 - val_accuracy: 0.8447\n",
            "Epoch 3/25\n",
            "47/47 [==============================] - 18s 381ms/step - loss: 0.3497 - accuracy: 0.8486 - val_loss: 0.3497 - val_accuracy: 0.8474\n",
            "Epoch 4/25\n",
            "47/47 [==============================] - 14s 292ms/step - loss: 0.3528 - accuracy: 0.8439 - val_loss: 0.3154 - val_accuracy: 0.8658\n",
            "Epoch 5/25\n",
            "47/47 [==============================] - 13s 287ms/step - loss: 0.3015 - accuracy: 0.8843 - val_loss: 0.2646 - val_accuracy: 0.9079\n",
            "Epoch 6/25\n",
            "47/47 [==============================] - 13s 285ms/step - loss: 0.2628 - accuracy: 0.8876 - val_loss: 0.2178 - val_accuracy: 0.9158\n",
            "Epoch 7/25\n",
            "47/47 [==============================] - 13s 285ms/step - loss: 0.2595 - accuracy: 0.8843 - val_loss: 0.2386 - val_accuracy: 0.9132\n",
            "Epoch 8/25\n",
            "47/47 [==============================] - 14s 288ms/step - loss: 0.2128 - accuracy: 0.9085 - val_loss: 0.2480 - val_accuracy: 0.9079\n",
            "Epoch 9/25\n",
            "47/47 [==============================] - 13s 286ms/step - loss: 0.2127 - accuracy: 0.9172 - val_loss: 0.2449 - val_accuracy: 0.8974\n",
            "Epoch 10/25\n",
            "47/47 [==============================] - 14s 288ms/step - loss: 0.2002 - accuracy: 0.9186 - val_loss: 0.2803 - val_accuracy: 0.8895\n",
            "Epoch 11/25\n",
            "47/47 [==============================] - 13s 285ms/step - loss: 0.1973 - accuracy: 0.9253 - val_loss: 0.2963 - val_accuracy: 0.8868\n",
            "Epoch 12/25\n",
            "47/47 [==============================] - 14s 288ms/step - loss: 0.1750 - accuracy: 0.9240 - val_loss: 0.2723 - val_accuracy: 0.9053\n",
            "Epoch 13/25\n",
            "47/47 [==============================] - 13s 287ms/step - loss: 0.1626 - accuracy: 0.9347 - val_loss: 0.2082 - val_accuracy: 0.9026\n",
            "Epoch 14/25\n",
            "47/47 [==============================] - 13s 287ms/step - loss: 0.1704 - accuracy: 0.9341 - val_loss: 0.1908 - val_accuracy: 0.9263\n",
            "Epoch 15/25\n",
            "47/47 [==============================] - 13s 287ms/step - loss: 0.1647 - accuracy: 0.9394 - val_loss: 0.2725 - val_accuracy: 0.9079\n",
            "Epoch 16/25\n",
            "47/47 [==============================] - 13s 286ms/step - loss: 0.1205 - accuracy: 0.9542 - val_loss: 0.2061 - val_accuracy: 0.9237\n",
            "Epoch 17/25\n",
            "47/47 [==============================] - 14s 290ms/step - loss: 0.1153 - accuracy: 0.9583 - val_loss: 0.2312 - val_accuracy: 0.9237\n",
            "Epoch 18/25\n",
            "47/47 [==============================] - 13s 287ms/step - loss: 0.1574 - accuracy: 0.9367 - val_loss: 0.2123 - val_accuracy: 0.9263\n",
            "Epoch 19/25\n",
            "47/47 [==============================] - 14s 288ms/step - loss: 0.1490 - accuracy: 0.9462 - val_loss: 0.2220 - val_accuracy: 0.9079\n",
            "Epoch 20/25\n",
            "47/47 [==============================] - 14s 287ms/step - loss: 0.1547 - accuracy: 0.9293 - val_loss: 0.2598 - val_accuracy: 0.8947\n",
            "Epoch 21/25\n",
            "47/47 [==============================] - 14s 294ms/step - loss: 0.1339 - accuracy: 0.9529 - val_loss: 0.2837 - val_accuracy: 0.9158\n",
            "Epoch 22/25\n",
            "47/47 [==============================] - 14s 289ms/step - loss: 0.1143 - accuracy: 0.9583 - val_loss: 0.2585 - val_accuracy: 0.8921\n",
            "Epoch 23/25\n",
            "47/47 [==============================] - 14s 292ms/step - loss: 0.0983 - accuracy: 0.9603 - val_loss: 0.2187 - val_accuracy: 0.9026\n",
            "Epoch 24/25\n",
            "47/47 [==============================] - 14s 292ms/step - loss: 0.1037 - accuracy: 0.9603 - val_loss: 0.3066 - val_accuracy: 0.9105\n",
            "Epoch 25/25\n",
            "47/47 [==============================] - 13s 285ms/step - loss: 0.0998 - accuracy: 0.9603 - val_loss: 0.2405 - val_accuracy: 0.9211\n"
          ],
          "name": "stdout"
        }
      ]
    },
    {
      "cell_type": "code",
      "metadata": {
        "id": "2L_RaoIZG87L",
        "outputId": "41174960-b884-483c-a45d-1c43b4a8b1b4",
        "colab": {
          "base_uri": "https://localhost:8080/",
          "height": 282
        }
      },
      "source": [
        "import matplotlib.pyplot as plt\n",
        "# plotting accuracy and validation accuracy\n",
        "accuracy = fitted_model.history['accuracy']\n",
        "plt.plot(range(len(accuracy)), accuracy, 'bo', label = 'accuracy')\n",
        "\n",
        "plt.legend()"
      ],
      "execution_count": 17,
      "outputs": [
        {
          "output_type": "execute_result",
          "data": {
            "text/plain": [
              "<matplotlib.legend.Legend at 0x7f3a028959e8>"
            ]
          },
          "metadata": {
            "tags": []
          },
          "execution_count": 17
        },
        {
          "output_type": "display_data",
          "data": {
            "image/png": "[encoded data removed]",
            "text/plain": [
              "<Figure size 432x288 with 1 Axes>"
            ]
          },
          "metadata": {
            "tags": [],
            "needs_background": "light"
          }
        }
      ]
    },
    {
      "cell_type": "markdown",
      "metadata": {
        "id": "U3PZasO0006Z"
      },
      "source": [
        "## Part 4 - Making a single prediction"
      ]
    },
    {
      "cell_type": "code",
      "metadata": {
        "id": "gsSiWEJY1BPB"
      },
      "source": [
        "import numpy as np\n",
        "from keras.preprocessing import image\n",
        "test_image = image.load_img('/content/gdrive/My Drive/Colab Notebooks/Electric_Car1.jpg', target_size = (64, 64))\n",
        "test_image = image.img_to_array(test_image)\n",
        "test_image = np.expand_dims(test_image, axis = 0)\n",
        "result = cnn.predict(test_image)\n",
        "training_set.class_indices\n",
        "if result[0][0] == 1:\n",
        "  prediction = 'Electric Car'\n",
        "else:\n",
        "  prediction = 'Electric Bus'"
      ],
      "execution_count": 18,
      "outputs": []
    },
    {
      "cell_type": "code",
      "metadata": {
        "id": "ED9KB3I54c1i",
        "outputId": "e0eabf29-404f-4bd6-8f51-de2352b1c027",
        "colab": {
          "base_uri": "https://localhost:8080/",
          "height": 34
        }
      },
      "source": [
        "print(prediction)"
      ],
      "execution_count": 19,
      "outputs": [
        {
          "output_type": "stream",
          "text": [
            "Electric Car\n"
          ],
          "name": "stdout"
        }
      ]
    }
  ]
}